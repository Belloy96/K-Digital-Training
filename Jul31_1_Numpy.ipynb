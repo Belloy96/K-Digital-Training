{
  "nbformat": 4,
  "nbformat_minor": 0,
  "metadata": {
    "colab": {
      "provenance": [],
      "authorship_tag": "ABX9TyPhpquMc4USEx9ZTKzESqYU",
      "include_colab_link": true
    },
    "kernelspec": {
      "name": "python3",
      "display_name": "Python 3"
    },
    "language_info": {
      "name": "python"
    }
  },
  "cells": [
    {
      "cell_type": "markdown",
      "metadata": {
        "id": "view-in-github",
        "colab_type": "text"
      },
      "source": [
        "<a href=\"https://colab.research.google.com/github/Belloy96/K-Digital-Training/blob/master/Jul31_1_Numpy.ipynb\" target=\"_parent\"><img src=\"https://colab.research.google.com/assets/colab-badge.svg\" alt=\"Open In Colab\"/></a>"
      ]
    },
    {
      "cell_type": "markdown",
      "source": [
        "# Numpy 함수\n",
        "\n",
        "# 하나의 array에 적용 (단항 유니버셜함수)\n",
        "\n",
        "유니버셜함수 : ndarray안에 있는 데이터의 요소별로 연산을 수행해주는 함수"
      ],
      "metadata": {
        "id": "jJ0_9dBbIgJA"
      }
    },
    {
      "cell_type": "code",
      "source": [
        "import numpy as np\n",
        "\n",
        "ar1 = np.random.randn(5, 3)\n",
        "ar1"
      ],
      "metadata": {
        "colab": {
          "base_uri": "https://localhost:8080/"
        },
        "id": "0s8R46TnI2_F",
        "outputId": "860e73f0-5320-456e-d742-0b9b00f3b1bf"
      },
      "execution_count": 1,
      "outputs": [
        {
          "output_type": "execute_result",
          "data": {
            "text/plain": [
              "array([[-5.03286606e-01,  1.76769243e-01, -3.49843775e-01],\n",
              "       [ 8.77516592e-02, -7.79176717e-01,  7.34045487e-01],\n",
              "       [-2.24487866e+00,  2.18453918e-01,  6.40158426e-01],\n",
              "       [ 1.31313176e+00, -1.83613677e-05, -4.47733860e-01],\n",
              "       [-8.81994740e-01, -8.07742327e-01, -6.15021999e-01]])"
            ]
          },
          "metadata": {},
          "execution_count": 1
        }
      ]
    },
    {
      "cell_type": "code",
      "source": [
        "# 각 요소의 절대값\n",
        "np.abs(ar1)"
      ],
      "metadata": {
        "colab": {
          "base_uri": "https://localhost:8080/"
        },
        "id": "bdHaH6ktI8BH",
        "outputId": "40d2714b-5a28-4612-de4d-25929930a8cb"
      },
      "execution_count": 3,
      "outputs": [
        {
          "output_type": "execute_result",
          "data": {
            "text/plain": [
              "array([[5.03286606e-01, 1.76769243e-01, 3.49843775e-01],\n",
              "       [8.77516592e-02, 7.79176717e-01, 7.34045487e-01],\n",
              "       [2.24487866e+00, 2.18453918e-01, 6.40158426e-01],\n",
              "       [1.31313176e+00, 1.83613677e-05, 4.47733860e-01],\n",
              "       [8.81994740e-01, 8.07742327e-01, 6.15021999e-01]])"
            ]
          },
          "metadata": {},
          "execution_count": 3
        }
      ]
    },
    {
      "cell_type": "code",
      "source": [
        "# 각 요소의 제곱근 계산 ( == ar1 ** 0.5 )\n",
        "np.sqrt(ar1)"
      ],
      "metadata": {
        "colab": {
          "base_uri": "https://localhost:8080/"
        },
        "id": "gf9m0gwDJVYM",
        "outputId": "0466e883-81db-4faf-bb14-0ad8270ef66c"
      },
      "execution_count": 5,
      "outputs": [
        {
          "output_type": "stream",
          "name": "stderr",
          "text": [
            "<ipython-input-5-6729b89e7ee3>:2: RuntimeWarning: invalid value encountered in sqrt\n",
            "  np.sqrt(ar1)\n"
          ]
        },
        {
          "output_type": "execute_result",
          "data": {
            "text/plain": [
              "array([[       nan, 0.42043935,        nan],\n",
              "       [0.29622907,        nan, 0.85676455],\n",
              "       [       nan, 0.46739054, 0.80009901],\n",
              "       [1.14591961,        nan,        nan],\n",
              "       [       nan,        nan,        nan]])"
            ]
          },
          "metadata": {},
          "execution_count": 5
        }
      ]
    },
    {
      "cell_type": "code",
      "source": [
        "# 각 요소의 제곱 계산\n",
        "np.square(ar1)"
      ],
      "metadata": {
        "colab": {
          "base_uri": "https://localhost:8080/"
        },
        "id": "3Fi5eZHmJfd8",
        "outputId": "14f05b28-8e4b-4b1d-f8bd-06fa3812ab39"
      },
      "execution_count": 6,
      "outputs": [
        {
          "output_type": "execute_result",
          "data": {
            "text/plain": [
              "array([[2.53297408e-01, 3.12473653e-02, 1.22390667e-01],\n",
              "       [7.70035369e-03, 6.07116356e-01, 5.38822777e-01],\n",
              "       [5.03948022e+00, 4.77221145e-02, 4.09802810e-01],\n",
              "       [1.72431502e+00, 3.37139824e-10, 2.00465610e-01],\n",
              "       [7.77914722e-01, 6.52447667e-01, 3.78252059e-01]])"
            ]
          },
          "metadata": {},
          "execution_count": 6
        }
      ]
    },
    {
      "cell_type": "code",
      "source": [
        "# 각 요소를 자연로그, 상용로그, 아래가 2인 로그를 씌운 값 계산\n",
        "print(np.log(ar1))\n",
        "print()\n",
        "print(np.log10(ar1))\n",
        "print()\n",
        "print(np.log2(ar1))"
      ],
      "metadata": {
        "colab": {
          "base_uri": "https://localhost:8080/"
        },
        "id": "kKeuDwgGJmQy",
        "outputId": "2c546e75-4cc6-4ad3-c690-be544ccb56eb"
      },
      "execution_count": 7,
      "outputs": [
        {
          "output_type": "stream",
          "name": "stdout",
          "text": [
            "[[        nan -1.73291011         nan]\n",
            " [-2.43324451         nan -0.30918428]\n",
            " [        nan -1.52118019 -0.44603959]\n",
            " [ 0.27241494         nan         nan]\n",
            " [        nan         nan         nan]]\n",
            "\n",
            "[[        nan -0.7525933          nan]\n",
            " [-1.05674466         nan -0.13427703]\n",
            " [        nan -0.66064016 -0.19371253]\n",
            " [ 0.11830831         nan         nan]\n",
            " [        nan         nan         nan]]\n",
            "\n",
            "[[        nan -2.50006082         nan]\n",
            " [-3.51042979         nan -0.44605863]\n",
            " [        nan -2.19459911 -0.64349911]\n",
            " [ 0.39301168         nan         nan]\n",
            " [        nan         nan         nan]]\n"
          ]
        },
        {
          "output_type": "stream",
          "name": "stderr",
          "text": [
            "<ipython-input-7-9ac07f5d57b3>:2: RuntimeWarning: invalid value encountered in log\n",
            "  print(np.log(ar1))\n",
            "<ipython-input-7-9ac07f5d57b3>:4: RuntimeWarning: invalid value encountered in log10\n",
            "  print(np.log10(ar1))\n",
            "<ipython-input-7-9ac07f5d57b3>:6: RuntimeWarning: invalid value encountered in log2\n",
            "  print(np.log2(ar1))\n"
          ]
        }
      ]
    },
    {
      "cell_type": "code",
      "source": [
        "# 각 요소의 부호 나타내기 (+ : 1, - : -1, 0 : 0)\n",
        "np.sign(ar1)"
      ],
      "metadata": {
        "colab": {
          "base_uri": "https://localhost:8080/"
        },
        "id": "YIEJtmg5J7P7",
        "outputId": "e7b91445-ff78-4857-ee25-ba77198191a8"
      },
      "execution_count": 8,
      "outputs": [
        {
          "output_type": "execute_result",
          "data": {
            "text/plain": [
              "array([[-1.,  1., -1.],\n",
              "       [ 1., -1.,  1.],\n",
              "       [-1.,  1.,  1.],\n",
              "       [ 1., -1., -1.],\n",
              "       [-1., -1., -1.]])"
            ]
          },
          "metadata": {},
          "execution_count": 8
        }
      ]
    },
    {
      "cell_type": "code",
      "source": [
        "# 각 요소의 소수 첫 번째 자리에서 올림한 값 계산\n",
        "np.ceil(ar1)"
      ],
      "metadata": {
        "colab": {
          "base_uri": "https://localhost:8080/"
        },
        "id": "5Eb654bpKTUj",
        "outputId": "f14e6a38-38fb-410c-94ca-4ecca9f09160"
      },
      "execution_count": 9,
      "outputs": [
        {
          "output_type": "execute_result",
          "data": {
            "text/plain": [
              "array([[-0.,  1., -0.],\n",
              "       [ 1., -0.,  1.],\n",
              "       [-2.,  1.,  1.],\n",
              "       [ 2., -0., -0.],\n",
              "       [-0., -0., -0.]])"
            ]
          },
          "metadata": {},
          "execution_count": 9
        }
      ]
    },
    {
      "cell_type": "code",
      "source": [
        "# 각 요소의 소수 첫 번째 자리에서 버림한 값 계산\n",
        "np.floor(ar1)"
      ],
      "metadata": {
        "colab": {
          "base_uri": "https://localhost:8080/"
        },
        "id": "OPTAj7Q_Kfxs",
        "outputId": "f0c5a3db-ec9c-4c6f-bee2-4ef5381f1f5f"
      },
      "execution_count": 10,
      "outputs": [
        {
          "output_type": "execute_result",
          "data": {
            "text/plain": [
              "array([[-1.,  0., -1.],\n",
              "       [ 0., -1.,  0.],\n",
              "       [-3.,  0.,  0.],\n",
              "       [ 1., -1., -1.],\n",
              "       [-1., -1., -1.]])"
            ]
          },
          "metadata": {},
          "execution_count": 10
        }
      ]
    },
    {
      "cell_type": "code",
      "source": [
        "# 각 요소의 소수 첫 번째 자리에서 반올림한 값 계산\n",
        "np.round(ar1)"
      ],
      "metadata": {
        "colab": {
          "base_uri": "https://localhost:8080/"
        },
        "id": "bGhJBzU5KkUM",
        "outputId": "f437a2a5-ae94-45a2-80d6-8607d45bb975"
      },
      "execution_count": 11,
      "outputs": [
        {
          "output_type": "execute_result",
          "data": {
            "text/plain": [
              "array([[-1.,  0., -0.],\n",
              "       [ 0., -1.,  1.],\n",
              "       [-2.,  0.,  1.],\n",
              "       [ 1., -0., -0.],\n",
              "       [-1., -1., -1.]])"
            ]
          },
          "metadata": {},
          "execution_count": 11
        }
      ]
    },
    {
      "cell_type": "code",
      "source": [
        "# 각 요소의 nan인 경우 True, 아닌 경우 False를 반환\n",
        "np.isnan(ar1)"
      ],
      "metadata": {
        "colab": {
          "base_uri": "https://localhost:8080/"
        },
        "id": "A6bwzcxsKwXS",
        "outputId": "5f2c3b03-3e58-4ef8-b899-ac59a7a7eb47"
      },
      "execution_count": 12,
      "outputs": [
        {
          "output_type": "execute_result",
          "data": {
            "text/plain": [
              "array([[False, False, False],\n",
              "       [False, False, False],\n",
              "       [False, False, False],\n",
              "       [False, False, False],\n",
              "       [False, False, False]])"
            ]
          },
          "metadata": {},
          "execution_count": 12
        }
      ]
    },
    {
      "cell_type": "code",
      "source": [
        "# 각 요소가 무한대인 경우 True, 아닌 경우 False를 반환\n",
        "np.isinf(ar1)"
      ],
      "metadata": {
        "colab": {
          "base_uri": "https://localhost:8080/"
        },
        "id": "qsP0SzJRK6UB",
        "outputId": "ce4be967-d45e-477b-b1cf-06f41c3b6b21"
      },
      "execution_count": 13,
      "outputs": [
        {
          "output_type": "execute_result",
          "data": {
            "text/plain": [
              "array([[False, False, False],\n",
              "       [False, False, False],\n",
              "       [False, False, False],\n",
              "       [False, False, False],\n",
              "       [False, False, False]])"
            ]
          },
          "metadata": {},
          "execution_count": 13
        }
      ]
    },
    {
      "cell_type": "code",
      "source": [
        "# 각 요소에 대해 삼각함수(+ 쌍곡선) 값을 계산하기 (cos, cosh ,sin, sinh, tan, tanh)\n",
        "# ~h : 쌍곡선 함수\n",
        "# 쌍곡선 : 고정된 두 초점으로부터 거리가 일정한 점들에 의해 나타나는 곡선\n",
        "np.cos(ar1)"
      ],
      "metadata": {
        "colab": {
          "base_uri": "https://localhost:8080/"
        },
        "id": "XzOL3an-LC0x",
        "outputId": "42e8e099-b183-448a-f4ba-0c4ed6dd73ee"
      },
      "execution_count": 14,
      "outputs": [
        {
          "output_type": "execute_result",
          "data": {
            "text/plain": [
              "array([[ 0.87600214,  0.98441696,  0.93942627],\n",
              "       [ 0.99615229,  0.7114923 ,  0.7424705 ],\n",
              "       [-0.62418063,  0.97623368,  0.80200114],\n",
              "       [ 0.25482291,  1.        ,  0.90143048],\n",
              "       [ 0.63561245,  0.69113188,  0.81676075]])"
            ]
          },
          "metadata": {},
          "execution_count": 14
        }
      ]
    },
    {
      "cell_type": "markdown",
      "source": [
        "# 두 개의 array에 적용 (이항 유니버셜함수)"
      ],
      "metadata": {
        "id": "NAa3ST8tL32U"
      }
    },
    {
      "cell_type": "code",
      "source": [
        "ar1"
      ],
      "metadata": {
        "colab": {
          "base_uri": "https://localhost:8080/"
        },
        "id": "ZeImDQZFLy97",
        "outputId": "ae8bcc4b-8886-4018-fa28-2e71912dd1f5"
      },
      "execution_count": 15,
      "outputs": [
        {
          "output_type": "execute_result",
          "data": {
            "text/plain": [
              "array([[-5.03286606e-01,  1.76769243e-01, -3.49843775e-01],\n",
              "       [ 8.77516592e-02, -7.79176717e-01,  7.34045487e-01],\n",
              "       [-2.24487866e+00,  2.18453918e-01,  6.40158426e-01],\n",
              "       [ 1.31313176e+00, -1.83613677e-05, -4.47733860e-01],\n",
              "       [-8.81994740e-01, -8.07742327e-01, -6.15021999e-01]])"
            ]
          },
          "metadata": {},
          "execution_count": 15
        }
      ]
    },
    {
      "cell_type": "code",
      "source": [
        "ar2 = np.random.randn(5, 3)\n",
        "ar2"
      ],
      "metadata": {
        "colab": {
          "base_uri": "https://localhost:8080/"
        },
        "id": "75O2P0J_MDC5",
        "outputId": "4d10e5e1-07b6-4b4d-ef03-7df23ee0f8ac"
      },
      "execution_count": 16,
      "outputs": [
        {
          "output_type": "execute_result",
          "data": {
            "text/plain": [
              "array([[-0.49323498, -2.11612115,  0.74850778],\n",
              "       [ 1.96477177, -1.66746687,  0.30845227],\n",
              "       [-0.42448164,  0.66556281,  0.44114394],\n",
              "       [ 0.62427362,  0.96370447, -0.3288338 ],\n",
              "       [ 0.02429834,  1.34134458,  0.94497499]])"
            ]
          },
          "metadata": {},
          "execution_count": 16
        }
      ]
    },
    {
      "cell_type": "code",
      "source": [
        "# 두 개의 array에 대해 동일한 위치 요소끼리\n",
        "# 연산 값을 계산함수 (add, subtract, multiply, divide)\n",
        "np.multiply(ar1, ar2)"
      ],
      "metadata": {
        "colab": {
          "base_uri": "https://localhost:8080/"
        },
        "id": "ifwdwnGqMGAg",
        "outputId": "5ba3172d-3d73-4b0f-8f92-24b35f431834"
      },
      "execution_count": 17,
      "outputs": [
        {
          "output_type": "execute_result",
          "data": {
            "text/plain": [
              "array([[ 2.48238558e-01, -3.74065133e-01, -2.61860787e-01],\n",
              "       [ 1.72411983e-01,  1.29925136e+00,  2.26417994e-01],\n",
              "       [ 9.52909778e-01,  1.45394803e-01,  2.82402012e-01],\n",
              "       [ 8.19753512e-01, -1.76949321e-05,  1.47230029e-01],\n",
              "       [-2.14310112e-02, -1.08346079e+00, -5.81180404e-01]])"
            ]
          },
          "metadata": {},
          "execution_count": 17
        }
      ]
    },
    {
      "cell_type": "code",
      "source": [
        "# 두 개의 array에 대해 동일한 위치의 요소끼리 비교해서 최대값 or 최소값 계산\n",
        "#   (maximum, minimum)\n",
        "np.maximum(ar1, ar2)"
      ],
      "metadata": {
        "colab": {
          "base_uri": "https://localhost:8080/"
        },
        "id": "vJtaMcOiMexC",
        "outputId": "894b8acf-fb1a-44ca-9473-e8f269729eaa"
      },
      "execution_count": 18,
      "outputs": [
        {
          "output_type": "execute_result",
          "data": {
            "text/plain": [
              "array([[-0.49323498,  0.17676924,  0.74850778],\n",
              "       [ 1.96477177, -0.77917672,  0.73404549],\n",
              "       [-0.42448164,  0.66556281,  0.64015843],\n",
              "       [ 1.31313176,  0.96370447, -0.3288338 ],\n",
              "       [ 0.02429834,  1.34134458,  0.94497499]])"
            ]
          },
          "metadata": {},
          "execution_count": 18
        }
      ]
    },
    {
      "cell_type": "markdown",
      "source": [
        "# 통계 함수\n",
        "\n",
        "통계 함수를 통해서 array의 합이나 평균 등을 구할 때\n",
        "\n",
        "추가로 'axis'라는 파라미터에 대한 값을 지정해서(axis -> 축)\n",
        "\n",
        "열 또는 행의 합 또는 평균 등을 구할 수 있음 !"
      ],
      "metadata": {
        "id": "0H7LQz_mM1zy"
      }
    },
    {
      "cell_type": "code",
      "source": [
        "# 열 간의 합을 계산\n",
        "np.sum(ar1, axis=0) # Numpy에서 열을 의미하는 값은 0 값임"
      ],
      "metadata": {
        "colab": {
          "base_uri": "https://localhost:8080/"
        },
        "id": "pslGsyCDNWrU",
        "outputId": "493032a7-c672-417a-f711-18c276578d2d"
      },
      "execution_count": 19,
      "outputs": [
        {
          "output_type": "execute_result",
          "data": {
            "text/plain": [
              "array([-2.22927659, -1.19171424, -0.03839572])"
            ]
          },
          "metadata": {},
          "execution_count": 19
        }
      ]
    },
    {
      "cell_type": "code",
      "source": [
        "# 행 간의 합을 계산\n",
        "np.sum(ar1, axis=1) # Numpy에서 행을 의미하는 값은 1 값임"
      ],
      "metadata": {
        "colab": {
          "base_uri": "https://localhost:8080/"
        },
        "id": "TtyooGEXNhdC",
        "outputId": "5ca3d4e5-e43b-4cfe-d3da-e01484f22a0a"
      },
      "execution_count": 20,
      "outputs": [
        {
          "output_type": "execute_result",
          "data": {
            "text/plain": [
              "array([-0.67636114,  0.04262043, -1.38626632,  0.86537954, -2.30475907])"
            ]
          },
          "metadata": {},
          "execution_count": 20
        }
      ]
    },
    {
      "cell_type": "code",
      "source": [
        "# 전체 요소의 평균을 계산\n",
        "np.mean(ar1)"
      ],
      "metadata": {
        "colab": {
          "base_uri": "https://localhost:8080/"
        },
        "id": "ER_trldLNpbD",
        "outputId": "d41d9dec-672c-48ef-e2c5-e00f3c904538"
      },
      "execution_count": 21,
      "outputs": [
        {
          "output_type": "execute_result",
          "data": {
            "text/plain": [
              "-0.23062577052939043"
            ]
          },
          "metadata": {},
          "execution_count": 21
        }
      ]
    },
    {
      "cell_type": "code",
      "source": [
        "# 전체 요소의 표준편차, 분산, 최소값, 최대값 (std, var, min, max)\n",
        "# 표준편차 : 데이터가 평균으로부터 얼마나 흩어있는지를 나타내는 지표\n",
        "# 분산 : 데이터가 평균으로부터 얼마나 멀리 떨어져있는지를 측정하는 지표\n",
        "#   (분산이 크면 평균으로부터 데이터들이 멀리 있고, 아니면 평균과 가까이 모여있음을 의미)\n",
        "np.std(ar1)"
      ],
      "metadata": {
        "colab": {
          "base_uri": "https://localhost:8080/"
        },
        "id": "cjO9ufkLN4ON",
        "outputId": "8e0cfb4d-836d-40e5-ee4b-c64d3a7e6b7e"
      },
      "execution_count": 23,
      "outputs": [
        {
          "output_type": "execute_result",
          "data": {
            "text/plain": [
              "-2.2448786639552143"
            ]
          },
          "metadata": {},
          "execution_count": 23
        }
      ]
    },
    {
      "cell_type": "code",
      "source": [
        "# 전체 요소의 최소값, 최대값이 위치한 인덱스의 위치를 반환 (argmin, argmax)\n",
        "np.argmin(ar1)"
      ],
      "metadata": {
        "colab": {
          "base_uri": "https://localhost:8080/"
        },
        "id": "oNM0r-ulODdX",
        "outputId": "2684816a-70a7-4b8f-fe77-1d9237feebe5"
      },
      "execution_count": 24,
      "outputs": [
        {
          "output_type": "execute_result",
          "data": {
            "text/plain": [
              "6"
            ]
          },
          "metadata": {},
          "execution_count": 24
        }
      ]
    },
    {
      "cell_type": "code",
      "source": [
        "# 맨 처음 요소부터 각 요소까지의 누적합 or 누적곱을 계산 (cumsum, cumprod)\n",
        "np.cumsum(ar1)"
      ],
      "metadata": {
        "colab": {
          "base_uri": "https://localhost:8080/"
        },
        "id": "rzz0uInfO2CU",
        "outputId": "2feae855-cb52-452b-9a7d-79b2848115b1"
      },
      "execution_count": 25,
      "outputs": [
        {
          "output_type": "execute_result",
          "data": {
            "text/plain": [
              "array([-0.50328661, -0.32651736, -0.67636114, -0.58860948, -1.3677862 ,\n",
              "       -0.63374071, -2.87861937, -2.66016545, -2.02000703, -0.70687527,\n",
              "       -0.70689363, -1.15462749, -2.03662223, -2.84436456, -3.45938656])"
            ]
          },
          "metadata": {},
          "execution_count": 25
        }
      ]
    },
    {
      "cell_type": "code",
      "source": [
        "# 사분위수 : 사분위수는 데이터를 4등분 한 것\n",
        "# 0 ~ 1 을 4등분(25%씩). 1/4분위수, 2/4분위수(중앙값 이라고도 표현), 3/4분위수, 4/4분위수\n",
        "\n",
        "# 0.25 : 1 사분위수 / 0.5 : 2 사분위수 (중앙값) / 0.75 : 3 사분위\n",
        "np.quantile(ar1, [0.25, 0.5, 0.75])"
      ],
      "metadata": {
        "colab": {
          "base_uri": "https://localhost:8080/"
        },
        "id": "qn_hVZW4PFCJ",
        "outputId": "07f2124c-0bb0-438d-cb19-aac9d1983fed"
      },
      "execution_count": 31,
      "outputs": [
        {
          "output_type": "execute_result",
          "data": {
            "text/plain": [
              "array([-0.69709936, -0.34984378,  0.19761158])"
            ]
          },
          "metadata": {},
          "execution_count": 31
        }
      ]
    },
    {
      "cell_type": "markdown",
      "source": [
        "# 기타 함수"
      ],
      "metadata": {
        "id": "6xyT4tCHTiZi"
      }
    },
    {
      "cell_type": "code",
      "source": [
        "# 전체 요소에 대해서 오름차순 정렬\n",
        "np.sort(ar1)"
      ],
      "metadata": {
        "colab": {
          "base_uri": "https://localhost:8080/"
        },
        "id": "DTVlTbI8Tjij",
        "outputId": "e0fa221d-7834-474c-fe79-9c3c5d7609e6"
      },
      "execution_count": 26,
      "outputs": [
        {
          "output_type": "execute_result",
          "data": {
            "text/plain": [
              "array([[-5.03286606e-01, -3.49843775e-01,  1.76769243e-01],\n",
              "       [-7.79176717e-01,  8.77516592e-02,  7.34045487e-01],\n",
              "       [-2.24487866e+00,  2.18453918e-01,  6.40158426e-01],\n",
              "       [-4.47733860e-01, -1.83613677e-05,  1.31313176e+00],\n",
              "       [-8.81994740e-01, -8.07742327e-01, -6.15021999e-01]])"
            ]
          },
          "metadata": {},
          "execution_count": 26
        }
      ]
    },
    {
      "cell_type": "code",
      "source": [
        "# 열 방향으로 오름차순 정렬\n",
        "np.sort(ar1, axis=0)"
      ],
      "metadata": {
        "colab": {
          "base_uri": "https://localhost:8080/"
        },
        "id": "PgcVx2jNTnz-",
        "outputId": "685b1940-1793-4a8f-aead-983eb2c86e44"
      },
      "execution_count": 29,
      "outputs": [
        {
          "output_type": "execute_result",
          "data": {
            "text/plain": [
              "array([[-0.49323498, -2.11612115, -0.3288338 ],\n",
              "       [-0.42448164, -1.66746687,  0.30845227],\n",
              "       [ 0.02429834,  0.66556281,  0.44114394],\n",
              "       [ 0.62427362,  0.96370447,  0.74850778],\n",
              "       [ 1.96477177,  1.34134458,  0.94497499]])"
            ]
          },
          "metadata": {},
          "execution_count": 29
        }
      ]
    },
    {
      "cell_type": "code",
      "source": [
        "# zip 함수\n",
        "# 각 객체들을 파라미터로 받고, 그 요소들을 tuple의 형태로 반환\n",
        "numbers = [1, 2, 3]\n",
        "letters = ['A', 'B', 'C']\n",
        "for pair in zip(numbers, letters):\n",
        "  print(pair)"
      ],
      "metadata": {
        "colab": {
          "base_uri": "https://localhost:8080/"
        },
        "id": "Pp25rpG1T2H3",
        "outputId": "039c7416-5551-4ef8-a243-58336a4bcd48"
      },
      "execution_count": 30,
      "outputs": [
        {
          "output_type": "stream",
          "name": "stdout",
          "text": [
            "(1, 'A')\n",
            "(2, 'B')\n",
            "(3, 'C')\n"
          ]
        }
      ]
    }
  ]
}